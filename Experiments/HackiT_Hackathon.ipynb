{
  "cells": [
    {
      "cell_type": "code",
      "execution_count": null,
      "metadata": {
        "colab": {
          "base_uri": "https://localhost:8080/",
          "height": 529
        },
        "id": "QNFKxiINT_S4",
        "outputId": "0206e8b8-c038-4df3-916b-2f6a1b184928"
      },
      "outputs": [
        {
          "name": "stderr",
          "output_type": "stream",
          "text": [
            "d:\\Python\\Projects\\HackiT Hackathon\\myenv\\lib\\site-packages\\tqdm\\auto.py:21: TqdmWarning: IProgress not found. Please update jupyter and ipywidgets. See https://ipywidgets.readthedocs.io/en/stable/user_install.html\n",
            "  from .autonotebook import tqdm as notebook_tqdm\n"
          ]
        }
      ],
      "source": [
        "import re\n",
        "import numpy as np\n",
        "import PyPDF2\n",
        "import docx\n",
        "from nltk.util import ngrams\n",
        "from sklearn.metrics.pairwise import cosine_similarity\n",
        "from sentence_transformers import SentenceTransformer\n",
        "from gensim.models import Word2Vec\n",
        "from collections import Counter"
      ]
    },
    {
      "cell_type": "code",
      "execution_count": null,
      "metadata": {
        "id": "fwfUK4Tkbw1L"
      },
      "outputs": [],
      "source": [
        "def read_document(file_path):\n",
        "    if file_path.endswith('.txt'):\n",
        "        with open(file_path, 'r', encoding='utf-8') as file:\n",
        "            return file.read()\n",
        "    elif file_path.endswith('.pdf'):\n",
        "        text = \"\"\n",
        "        with open(file_path, \"rb\") as file:\n",
        "            reader = PyPDF2.PdfReader(file)\n",
        "            for page in reader.pages:\n",
        "                text += page.extract_text() + \" \"\n",
        "        return text\n",
        "    elif file_path.endswith('.docx'):\n",
        "        doc = docx.Document(file_path)\n",
        "        return \" \".join([para.text for para in doc.paragraphs])\n",
        "    else:\n",
        "        raise ValueError(\"Unsupported file format\")\n",
        "\n",
        "def preprocess_text(text):\n",
        "    text = text.lower()\n",
        "    text = re.sub(r'[^a-zA-Z0-9\\s]', '', text)\n",
        "    return text.split()\n",
        "\n",
        "def get_ngrams(text, n=3):\n",
        "    return list(ngrams(text, n))\n",
        "\n",
        "def word2vec_similarity(doc1, doc2):\n",
        "    model = Word2Vec([doc1, doc2], vector_size=100, window=5, min_count=1, workers=4)\n",
        "    vector1 = np.mean([model.wv[word] for word in doc1 if word in model.wv], axis=0)\n",
        "    vector2 = np.mean([model.wv[word] for word in doc2 if word in model.wv], axis=0)\n",
        "    return cosine_similarity([vector1], [vector2])[0][0]\n",
        "\n",
        "def bert_similarity(doc1, doc2):\n",
        "    model = SentenceTransformer('all-MiniLM-L6-v2')\n",
        "    embeddings = model.encode([\" \".join(doc1), \" \".join(doc2)])\n",
        "    return cosine_similarity([embeddings[0]], [embeddings[1]])[0][0]\n",
        "\n",
        "def find_plagiarized_sentences(original, to_check, threshold=0.85):\n",
        "    orig_sentences = [s.strip() for s in original.split('.') if s.strip()]\n",
        "    check_sentences = [s.strip() for s in to_check.split('.') if s.strip()]\n",
        "    model = SentenceTransformer('all-MiniLM-L6-v2')\n",
        "    plagiarized = []\n",
        "    \n",
        "    orig_embeddings = model.encode(orig_sentences)\n",
        "    check_embeddings = model.encode(check_sentences)\n",
        "    \n",
        "    for i, check_embedding in enumerate(check_embeddings):\n",
        "        similarities = cosine_similarity([check_embedding], orig_embeddings)[0]\n",
        "        similar_indices = [j for j, sim in enumerate(similarities) if sim > threshold]\n",
        "        \n",
        "        if similar_indices:\n",
        "            plagiarized.append(check_sentences[i])\n",
        "    \n",
        "    return plagiarized\n",
        "\n",
        "def check_plagiarism(file1, file2):\n",
        "    original_text = read_document(file1)\n",
        "    check_text = read_document(file2)\n",
        "    \n",
        "    original_tokens = preprocess_text(original_text)\n",
        "    check_tokens = preprocess_text(check_text)\n",
        "    \n",
        "    ngram_matches = len(set(get_ngrams(original_tokens)) & set(get_ngrams(check_tokens)))\n",
        "    ngram_plagiarism = (ngram_matches / max(len(original_tokens), 1)) * 100  # Avoid division by zero\n",
        "    \n",
        "    w2v_sim = word2vec_similarity(original_tokens, check_tokens) * 100\n",
        "    bert_sim = bert_similarity(original_tokens, check_tokens) * 100\n",
        "    \n",
        "    overall_plagiarism = (ngram_plagiarism * 0.3 + w2v_sim * 0.3 + bert_sim * 0.4)  # Adjusted weights for stricter criteria\n",
        "    \n",
        "    plagiarized_sentences = find_plagiarized_sentences(original_text, check_text)\n",
        "    \n",
        "    return {\n",
        "        \"Plagiarism Score\": round(overall_plagiarism, 2),\n",
        "        \"Plagiarized Sentences\": plagiarized_sentences\n",
        "    }\n",
        "\n"
      ]
    },
    {
      "cell_type": "code",
      "execution_count": 22,
      "metadata": {},
      "outputs": [
        {
          "name": "stdout",
          "output_type": "stream",
          "text": [
            "{'Plagiarism Score': 40.7, 'Plagiarized Sentences': []}\n"
          ]
        }
      ],
      "source": [
        "result = check_plagiarism(\"Numpy and Pandas.pdf\", \"Intern_Assignment_ Implementing_SKA_Model_for_Iris_Dataset (1).pdf\")\n",
        "print(result)"
      ]
    },
    {
      "cell_type": "code",
      "execution_count": 91,
      "metadata": {},
      "outputs": [],
      "source": [
        "import faiss\n",
        "import numpy as np\n",
        "import PyPDF2\n",
        "import docx\n",
        "from sentence_transformers import SentenceTransformer\n",
        "from langchain.embeddings import HuggingFaceEmbeddings\n",
        "from langchain.vectorstores import FAISS\n",
        "from langchain.text_splitter import RecursiveCharacterTextSplitter\n",
        "from langchain_groq import ChatGroq\n",
        "from langchain.memory import ConversationBufferMemory\n",
        "from langchain.chains import ConversationalRetrievalChain\n",
        "from langchain.prompts import PromptTemplate\n"
      ]
    },
    {
      "cell_type": "code",
      "execution_count": 94,
      "metadata": {},
      "outputs": [],
      "source": [
        "# Function to read document\n",
        "def read_document(file_path):\n",
        "    \"\"\"Read text from PDF, TXT, or DOCX files.\"\"\"\n",
        "    if file_path.endswith('.txt'):\n",
        "        with open(file_path, 'r', encoding='utf-8') as file:\n",
        "            return file.read()\n",
        "    elif file_path.endswith('.pdf'):\n",
        "        text = \"\"\n",
        "        with open(file_path, \"rb\") as file:\n",
        "            reader = PyPDF2.PdfReader(file)\n",
        "            for page in reader.pages:\n",
        "                text += page.extract_text() + \" \"\n",
        "        return text\n",
        "    elif file_path.endswith('.docx'):\n",
        "        doc = docx.Document(file_path)\n",
        "        return \" \".join([para.text for para in doc.paragraphs])\n",
        "    else:\n",
        "        raise ValueError(\"Unsupported file format\")\n",
        "\n",
        "# Function to store document embeddings\n",
        "def store_document_embeddings(file_path):\n",
        "    \"\"\"Split document into chunks, create embeddings, and store in FAISS index.\"\"\"\n",
        "    text = read_document(file_path)\n",
        "\n",
        "    # Split text into smaller chunks\n",
        "    text_splitter = RecursiveCharacterTextSplitter(chunk_size=500, chunk_overlap=100)\n",
        "    chunks = text_splitter.split_text(text)\n",
        "\n",
        "    # Load embedding model\n",
        "    embeddings = HuggingFaceEmbeddings(model_name=\"sentence-transformers/all-MiniLM-L6-v2\")\n",
        "\n",
        "    # Create FAISS vector store\n",
        "    vector_store = FAISS.from_texts(chunks, embeddings)\n",
        "\n",
        "    return vector_store, chunks\n",
        "\n",
        "# Function to set up Groq LLM\n",
        "def setup_groq_llm():\n",
        "    \"\"\"Initialize Groq LLM.\"\"\"\n",
        "    return ChatGroq(model=\"mixtral-8x7b-32768\", temperature=0.5,groq_api_key=\"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\")\n",
        "\n",
        "# Define a Prompt Template\n",
        "prompt_template = PromptTemplate(\n",
        "    input_variables=[\"context\", \"question\"],\n",
        "    template=\"\"\"\n",
        "    You are an AI assistant that answers user queries based on the given document.\n",
        "    Use the context provided to answer the question.\n",
        "    If the answer is not found in the document, say \"I couldn't find an exact answer in the document.\"\n",
        "    \n",
        "    Context:\n",
        "    {context}\n",
        "    \n",
        "    Question:\n",
        "    {question}\n",
        "    \n",
        "    Answer:\n",
        "    \"\"\"\n",
        ")\n",
        "\n",
        "# Function to create a chatbot that talks to the document\n",
        "def query_document(vector_store, question, memory):\n",
        "    \"\"\"Search document, retrieve relevant text, and answer using Groq LLM.\"\"\"\n",
        "    retriever = vector_store.as_retriever(search_kwargs={\"k\": 3})  # Retrieve top 3 chunks\n",
        "\n",
        "    # Set up conversational retrieval chain\n",
        "    qa_chain = ConversationalRetrievalChain.from_llm(\n",
        "        llm=setup_groq_llm(),\n",
        "        retriever=retriever,\n",
        "        memory=memory,\n",
        "        combine_docs_chain_kwargs={\"prompt\": prompt_template}\n",
        "    )\n",
        "\n",
        "    # Get response\n",
        "    response = qa_chain({\"question\": question})\n",
        "    \n",
        "    return response[\"answer\"]\n",
        "\n"
      ]
    },
    {
      "cell_type": "code",
      "execution_count": 95,
      "metadata": {},
      "outputs": [
        {
          "name": "stdout",
          "output_type": "stream",
          "text": [
            "This document appears to be an application form for an income certificate, specifically Form-XV. The application is being made by an individual residing in Ward No. 11, with the post office being Ibidwalaya and the police station being Kuchaikote. The applicant's occupation is listed as student, and they do not have any income from government service, agriculture, or business. However, they have income from other sources amounting to ₹ 40000/-. The total annual income of the applicant is ₹ 90000/-. The purpose of the application is not explicitly stated in the provided context. The application is being made for the Anchal of Kuchaai, under the Anumandal of Gopalganj, and the district is Gopalganj. The application type is online. The date is 28/02/2025, and the form number is -14403.\n"
          ]
        }
      ],
      "source": [
        "# Example usage\n",
        "vector_store, chunks = store_document_embeddings(\"BICCO_2025_3535729.pdf\")\n",
        "memory = ConversationBufferMemory(memory_key=\"chat_history\", return_messages=True)\n",
        "response = query_document(vector_store, \"Summarize this document.\", memory)\n",
        "print(response)"
      ]
    },
    {
      "cell_type": "code",
      "execution_count": 96,
      "metadata": {},
      "outputs": [
        {
          "name": "stdout",
          "output_type": "stream",
          "text": [
            "Sure, I can provide details about the applicant mentioned in the document. The applicant's name is Shabba Parwin. She is a female. Her father's name is Shahnawaj Ahmad and her mother's name is Shahnaj Khatoon. The applicant's mobile number is 9661376133 and her email address is shahnawaz0184@gmail.com. She is a resident of Bihar state, specifically from the Gopalganj district and Gopalganj sub-division. Her block is Kuchaikote and her town is Belbanwa. The applicant's ward number is 11 and her post office is located in Ibdavalaya. Her police station is also in Kuchaikote. The applicant is a student and her total income is ₹ 90000/- per year, which is earned from agriculture and other sources.\n"
          ]
        }
      ],
      "source": [
        "response = query_document(vector_store, \"give me details of candidate\", memory)\n",
        "print(response)"
      ]
    },
    {
      "cell_type": "code",
      "execution_count": 97,
      "metadata": {},
      "outputs": [
        {
          "name": "stdout",
          "output_type": "stream",
          "text": [
            "Yes, I can provide some information about the applicant's personal details and background based on the document.\n",
            "\n",
            "The applicant's name is Shabba Parwin. She is female. Her father's name is Shahnawaj Ahmad and her mother's name is Shahnaj Khatoon. She is currently not married, as the field for the name of the husband is blank.\n",
            "\n",
            "The applicant's mobile number is 9661376133 and her email address is shahnawaz0184@gmail.com.\n",
            "\n",
            "She is a resident of the state of Bihar, specifically from the district and sub-division of Gopalganj. The block is Kuchaikote and the town is Belbanwa. The ward number is 11. The post office is located in Kuchaikote and the police station is also in Kuchaikote.\n",
            "\n",
            "The applicant is a student and her total income is ₹ 90000/-. This includes ₹ 50000/- from agriculture, ₹ 40000/- from other sources, and no income from government service or business.\n",
            "\n",
            "I hope this information addresses your query. If you have any further questions, please let me know.\n"
          ]
        }
      ],
      "source": [
        "response = query_document(vector_store, \"more\", memory)\n",
        "print(response)"
      ]
    },
    {
      "cell_type": "code",
      "execution_count": null,
      "metadata": {},
      "outputs": [],
      "source": [
        "response = query_document(vector_store, \"give me details of candidate\", memory)\n",
        "print(response)"
      ]
    },
    {
      "cell_type": "code",
      "execution_count": 47,
      "metadata": {},
      "outputs": [
        {
          "name": "stdout",
          "output_type": "stream",
          "text": [
            "The document appears to be a comprehensive collection of Python code snippets for Pandas and NumPy, focusing on essential concepts and real-world use cases, particularly in AI and ML tasks. It highlights the importance of NumPy in AI/ML due to its ability to provide fast and efficient numerical computations, handling large datasets, and its role in deep learning and scientific computing. The document also mentions the significance of mastering Pandas for efficient data analysis and preprocessing in ML & AI. Additionally, it touches on the features of NumPy, such as efficient data handling, vectorized operations, optimized memory usage, and powerful mathematical functions, which are crucial for tasks like array manipulation, matrix operations, and statistical computations. Overall, the document aims to provide a practical guide for using Pandas and NumPy in AI/ML tasks.\n"
          ]
        }
      ],
      "source": [
        "response = query_document(vector_store, \"tell me more\", memory)\n",
        "print(response)"
      ]
    },
    {
      "cell_type": "code",
      "execution_count": 98,
      "metadata": {},
      "outputs": [
        {
          "name": "stdout",
          "output_type": "stream",
          "text": [
            "The applicant's income details are as follows:\n",
            "- Occupation: Student\n",
            "- Income from Government Service: ₹ 0/-\n",
            "- Income from Agriculture: ₹ 50000/-\n",
            "- Income from Business: ₹ 0/-\n",
            "- Income from Other Sources: ₹ 40000/-\n",
            "- Total Income (Annual): ₹ 90000/-\n",
            "The income from other sources is ₹ 40000/-.\n"
          ]
        }
      ],
      "source": [
        "response = query_document(vector_store, \"more related to income\", memory)\n",
        "print(response)"
      ]
    },
    {
      "cell_type": "code",
      "execution_count": 99,
      "metadata": {},
      "outputs": [
        {
          "name": "stdout",
          "output_type": "stream",
          "text": [
            "The income of the applicant from other sources is ₹ 40000/-.\n"
          ]
        }
      ],
      "source": [
        "response = query_document(vector_store, \"in para form\", memory)\n",
        "print(response)"
      ]
    },
    {
      "cell_type": "code",
      "execution_count": 51,
      "metadata": {},
      "outputs": [
        {
          "name": "stdout",
          "output_type": "stream",
          "text": [
            "Here are the main points of the document summarized in 5 bullet points:\n",
            "* The document explores a dataset using Pandas, displaying the first 5 rows, summary, statistics, column names, and shape of the dataset.\n",
            "* The dataset contains information about individuals, including their name, age, and salary.\n",
            "* NumPy is introduced as a library that provides fast and efficient numerical computations, essential for AI and ML tasks.\n",
            "* The document highlights the importance of mastering Pandas for efficient data analysis and preprocessing in ML and AI.\n",
            "* The document provides resources for further learning, including the official Pandas documentation and a guide to NumPy for AI/ML.\n"
          ]
        }
      ],
      "source": [
        "response = query_document(vector_store, \"summarize in in 5 bullet points\", memory)\n",
        "print(response)"
      ]
    },
    {
      "cell_type": "code",
      "execution_count": null,
      "metadata": {},
      "outputs": [
        {
          "name": "stdout",
          "output_type": "stream",
          "text": [
            "* The document explores a dataset structure using various methods such as `df.head()`, `df.info()`, `df.describe()`, `df.columns`, and `df.shape` to understand the dataset's composition and statistics.\n",
            "* The document also demonstrates statistical analysis and memory management techniques, including computing aggregate values like sum, minimum, and maximum using NumPy, and optimizing a DataFrame to reduce memory usage.\n"
          ]
        }
      ],
      "source": [
        "response = query_document(vector_store, \"in 2 bullet points\", memory)\n",
        "print(response)"
      ]
    },
    {
      "cell_type": "code",
      "execution_count": 53,
      "metadata": {},
      "outputs": [
        {
          "name": "stdout",
          "output_type": "stream",
          "text": [
            "The concept of using `df.head()` is to display the first 5 rows of the dataset by default, allowing users to understand the structure and content of the dataset. In this context, `df.head()` is used to show the first few rows of the dataframe, which includes columns such as 'Name', 'Age', and 'Salary', providing a glimpse into the dataset's composition.\n"
          ]
        }
      ],
      "source": [
        "response = query_document(vector_store, \"explain any one concept from this document\", memory)\n",
        "print(response)"
      ]
    },
    {
      "cell_type": "code",
      "execution_count": 54,
      "metadata": {},
      "outputs": [
        {
          "name": "stdout",
          "output_type": "stream",
          "text": [
            "The `df.head()` function is used to display the first 5 rows of the dataset by default, which helps in understanding the structure of the dataset.\n"
          ]
        }
      ],
      "source": [
        "response = query_document(vector_store, \"what is use of it \", memory)\n",
        "print(response)"
      ]
    },
    {
      "cell_type": "code",
      "execution_count": 62,
      "metadata": {},
      "outputs": [],
      "source": [
        "import re\n",
        "import PyPDF2\n",
        "import docx\n",
        "import torch\n",
        "import numpy as np\n",
        "from transformers import BertTokenizer, BertModel\n",
        "from sentence_transformers import SentenceTransformer\n",
        "from sklearn.metrics.pairwise import cosine_similarity"
      ]
    },
    {
      "cell_type": "code",
      "execution_count": 63,
      "metadata": {},
      "outputs": [],
      "source": [
        "def read_document(file_path):\n",
        "    \"\"\"Reads text from TXT, PDF, or DOCX files.\"\"\"\n",
        "    if file_path.endswith('.txt'):\n",
        "        with open(file_path, 'r', encoding='utf-8') as file:\n",
        "            return file.read()\n",
        "    elif file_path.endswith('.pdf'):\n",
        "        text = \"\"\n",
        "        with open(file_path, \"rb\") as file:\n",
        "            reader = PyPDF2.PdfReader(file)\n",
        "            for page in reader.pages:\n",
        "                text += page.extract_text() + \" \"\n",
        "        return text\n",
        "    elif file_path.endswith('.docx'):\n",
        "        doc = docx.Document(file_path)\n",
        "        return \" \".join([para.text for para in doc.paragraphs])\n",
        "    else:\n",
        "        raise ValueError(\"Unsupported file format\")\n",
        "\n",
        "def preprocess_text(text):\n",
        "    \"\"\"Cleans text: converts to lowercase, removes special characters.\"\"\"\n",
        "    text = text.lower()\n",
        "    text = re.sub(r'[^a-zA-Z0-9\\s]', '', text)  # Remove special characters\n",
        "    return text\n",
        "\n",
        "def get_bert_embedding(text, model, tokenizer):\n",
        "    \"\"\"Generates BERT embeddings for a given text.\"\"\"\n",
        "    tokens = tokenizer(text, padding=True, truncation=True, return_tensors=\"pt\")\n",
        "    with torch.no_grad():\n",
        "        output = model(**tokens)\n",
        "    return output.last_hidden_state[:, 0, :].numpy()  # Get [CLS] token embedding\n",
        "\n",
        "def classify_document(file_path):\n",
        "    \"\"\"Classifies a document into Medical, Finance, Law, or Other based on content using BERT & MiniLM.\"\"\"\n",
        "    \n",
        "    # Load Models\n",
        "    miniLM_model = SentenceTransformer('sentence-transformers/all-MiniLM-L6-v2')\n",
        "    bert_model = BertModel.from_pretrained('bert-base-uncased')\n",
        "    bert_tokenizer = BertTokenizer.from_pretrained('bert-base-uncased')\n",
        "\n",
        "    # Read and preprocess document\n",
        "    text = read_document(file_path)\n",
        "    processed_text = preprocess_text(text)\n",
        "\n",
        "    # Encode document using MiniLM and BERT\n",
        "    miniLM_embedding = miniLM_model.encode([processed_text])\n",
        "    bert_embedding = get_bert_embedding(processed_text, bert_model, bert_tokenizer)\n",
        "\n",
        "    # Define broader category descriptions\n",
        "    categories = {\n",
        "        \"Medical\": \"Healthcare, medicine, diseases, diagnosis, treatment, doctors, hospitals, clinical trials, medical research, pharmaceuticals, mental health, surgery, therapy, genetics.\",\n",
        "        \"Finance\": \"Banking, stocks, investment, economics, trading, financial reports, cryptocurrency, loans, credit, accounting, business strategy, taxation, insurance, financial planning.\",\n",
        "        \"Law\": \"Legal documents, court cases, contracts, government policies, criminal law, corporate law, regulations, judiciary, human rights, intellectual property, international law, compliance.\",\n",
        "        \"Other\": \"Technology, science, education, sports, entertainment, history, politics, travel, social media, lifestyle, general information, AI, engineering, software development, marketing.\"\n",
        "    }\n",
        "\n",
        "    # Encode category descriptions using MiniLM and BERT\n",
        "    category_embeddings_miniLM = {category: miniLM_model.encode([desc]) for category, desc in categories.items()}\n",
        "    category_embeddings_bert = {category: get_bert_embedding(desc, bert_model, bert_tokenizer) for category, desc in categories.items()}\n",
        "\n",
        "    # Compute cosine similarity with each category using MiniLM\n",
        "    miniLM_similarities = {category: cosine_similarity(miniLM_embedding, category_embeddings_miniLM[category])[0][0] for category in categories}\n",
        "    \n",
        "    # Compute cosine similarity with each category using BERT\n",
        "    bert_similarities = {category: cosine_similarity(bert_embedding, category_embeddings_bert[category])[0][0] for category in categories}\n",
        "\n",
        "    # Average the scores for better accuracy\n",
        "    combined_similarities = {category: (miniLM_similarities[category] * 0.5 + bert_similarities[category] * 0.5) for category in categories}\n",
        "\n",
        "    # Get the highest similarity category\n",
        "    best_category = max(combined_similarities, key=combined_similarities.get)\n",
        "    \n",
        "    # If the best category's similarity is too low, classify as \"Other\"\n",
        "    if combined_similarities[best_category] < 0.55:  # Threshold to decide if \"Other\" is better\n",
        "        best_category = \"Other\"\n",
        "\n",
        "    return {\n",
        "        \"Predicted Category\": best_category,\n",
        "        \"Similarity Scores\": combined_similarities\n",
        "    }"
      ]
    },
    {
      "cell_type": "code",
      "execution_count": null,
      "metadata": {},
      "outputs": [
        {
          "name": "stdout",
          "output_type": "stream",
          "text": [
            "{'Predicted Category': 'Other', 'Similarity Scores': {'Medical': 0.29302341118454933, 'Finance': 0.3913787305355072, 'Law': 0.3354625925421715, 'Other': 0.26232025027275085}}\n"
          ]
        }
      ],
      "source": [
        "result = classify_document(\"9150457367528022025.pdf\")\n",
        "print(result)\n",
        "\n",
        "\n",
        "\n"
      ]
    },
    {
      "cell_type": "code",
      "execution_count": null,
      "metadata": {},
      "outputs": [],
      "source": []
    },
    {
      "cell_type": "code",
      "execution_count": 1,
      "metadata": {},
      "outputs": [
        {
          "name": "stdout",
          "output_type": "stream",
          "text": [
            "hello\n"
          ]
        }
      ],
      "source": [
        "print(\"hello\")"
      ]
    },
    {
      "cell_type": "code",
      "execution_count": null,
      "metadata": {},
      "outputs": [],
      "source": [
        "import easyocr\n",
        "\n",
        "def ocr_from_image(image_path):\n",
        "\n",
        "    reader = easyocr.Reader(['en'])  # Initialize OCR reader for English\n",
        "    result = reader.readtext(image_path, detail=0)  # Extract text without bounding box details\n",
        "    \n",
        "    extracted_text = \"\\n\".join(result)  # Join text lines with new lines\n",
        "    return extracted_text\n",
        "\n"
      ]
    },
    {
      "cell_type": "code",
      "execution_count": null,
      "metadata": {},
      "outputs": [],
      "source": [
        "image_text = ocr_from_image(\"eye report nidhi.JPG\")\n",
        "print(image_text)"
      ]
    },
    {
      "cell_type": "code",
      "execution_count": null,
      "metadata": {},
      "outputs": [],
      "source": []
    },
    {
      "cell_type": "code",
      "execution_count": null,
      "metadata": {},
      "outputs": [],
      "source": []
    },
    {
      "cell_type": "code",
      "execution_count": 11,
      "metadata": {},
      "outputs": [],
      "source": [
        "from gtts import gTTS\n",
        "import speech_recognition as sr\n",
        "import re"
      ]
    },
    {
      "cell_type": "code",
      "execution_count": 12,
      "metadata": {},
      "outputs": [],
      "source": [
        "def text_to_speech(text, lang='en', slow=False):\n",
        "    tts = gTTS(text=text, lang=lang,slow=slow)\n",
        "    tts.save(\"output.mp3\")\n",
        "    return \"output.mp3\"\n"
      ]
    },
    {
      "cell_type": "code",
      "execution_count": 21,
      "metadata": {},
      "outputs": [],
      "source": [
        "def speech_to_text(source_type='microphone', file_path=None):\n",
        "    recognizer = sr.Recognizer()\n",
        "    recognizer.energy_threshold = 150  # Lower threshold to detect softer speech\n",
        "    recognizer.dynamic_energy_threshold = True\n",
        "\n",
        "    if source_type == 'microphone':\n",
        "        with sr.Microphone() as source:\n",
        "            print(\"Listening... Speak now!\")\n",
        "            recognizer.adjust_for_ambient_noise(source, duration=2)  # Longer duration for better calibration\n",
        "            try:\n",
        "                audio = recognizer.listen(source, timeout=90, phrase_time_limit=60)\n",
        "                text = recognizer.recognize_google(audio)\n",
        "                print(\"Text: \", text)\n",
        "                return text\n",
        "            except sr.WaitTimeoutError:\n",
        "                print(\"Timeout! No speech detected.\")\n",
        "            except sr.UnknownValueError:\n",
        "                print(\"Sorry, could not understand the audio.\")\n",
        "            except sr.RequestError as e:\n",
        "                print(f\"Could not request results; {e}\")\n",
        "\n",
        "    elif source_type == 'file' and file_path:\n",
        "        with sr.AudioFile(file_path) as source:\n",
        "            recognizer.adjust_for_ambient_noise(source, duration=2)\n",
        "            audio = recognizer.record(source)\n",
        "            try:\n",
        "                text = recognizer.recognize_google(audio)\n",
        "                print(\"Text: \", text)\n",
        "                return text\n",
        "            except sr.UnknownValueError:\n",
        "                print(\"Sorry, could not understand the audio.\")\n",
        "            except sr.RequestError as e:\n",
        "                print(f\"Could not request results; {e}\")\n",
        "    else:\n",
        "        print(\"Invalid source type or file path not provided.\")\n"
      ]
    },
    {
      "cell_type": "code",
      "execution_count": 39,
      "metadata": {},
      "outputs": [
        {
          "data": {
            "text/plain": [
              "'output.mp3'"
            ]
          },
          "execution_count": 39,
          "metadata": {},
          "output_type": "execute_result"
        }
      ],
      "source": [
        "text_to_speech(\"My name is ashish , my name is pranav , my name is nidhi , my name is shubham\")"
      ]
    },
    {
      "cell_type": "code",
      "execution_count": 46,
      "metadata": {},
      "outputs": [
        {
          "name": "stdout",
          "output_type": "stream",
          "text": [
            "Listening... Speak now!\n",
            "Text:  hello guys I am Shubham Kumar Gupta\n"
          ]
        },
        {
          "data": {
            "text/plain": [
              "'hello guys I am Shubham Kumar Gupta'"
            ]
          },
          "execution_count": 46,
          "metadata": {},
          "output_type": "execute_result"
        }
      ],
      "source": [
        "speech_to_text()"
      ]
    },
    {
      "cell_type": "code",
      "execution_count": 47,
      "metadata": {},
      "outputs": [],
      "source": [
        "groq_api_key=\"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\"\n"
      ]
    },
    {
      "cell_type": "code",
      "execution_count": 158,
      "metadata": {},
      "outputs": [],
      "source": [
        "import langchain\n",
        "from langchain_groq import ChatGroq\n",
        "from langchain.prompts import PromptTemplate\n",
        "from langchain.memory import ConversationBufferMemory\n",
        "memory = ConversationBufferMemory(memory_key=\"chat_history\", return_messages=True)\n"
      ]
    },
    {
      "cell_type": "code",
      "execution_count": 159,
      "metadata": {},
      "outputs": [],
      "source": [
        "llm=ChatGroq(api_key=groq_api_key,model_name=\"gemma2-9b-it\")"
      ]
    },
    {
      "cell_type": "code",
      "execution_count": 160,
      "metadata": {},
      "outputs": [],
      "source": [
        "mental_health_prompt = PromptTemplate(\n",
        "    input_variables=[\"chat_history\", \"user_input\", \"user_mood\"],\n",
        "    template=\"\"\"\n",
        "🧠 **You are an advanced AI assistant and a highly skilled mental health professional.**  \n",
        "Your expertise includes **cognitive behavioral therapy (CBT), mindfulness techniques, emotional intelligence, and personalized mood-based guidance.**  \n",
        "You provide **empathetic, structured, and insightful** responses, tailored to the user's emotions and situation.  \n",
        "\n",
        "---  \n",
        "## **🗣️ Conversation History**\n",
        "{chat_history}\n",
        "\n",
        "## **🗣️ New User Input & Context**\n",
        "- **User's Message:** \"{user_input}\"  \n",
        "- **Detected Mood:** \"{user_mood}\"  \n",
        "\n",
        "---\n",
        "### **📜 Rulebook: Strict Guidelines for Responses**  \n",
        "\n",
        "1️⃣ **Full, structured guidance** – Every response must be **complete, insightful, and action-oriented.**  \n",
        "2️⃣ **Professional, yet conversational** – Speak like a **human expert**, not an AI bot. Responses should feel **natural, warm, and engaging.**  \n",
        "3️⃣ **Provide actionable steps** – Instead of just sympathizing, always offer **practical advice, exercises, or solutions** to help the user.  \n",
        "4️⃣ **Adjust tone based on mood** –  \n",
        "   - If the user is **sad**, be **gentle & reassuring**.  \n",
        "   - If **angry**, offer **calming strategies**.  \n",
        "   - If **curious**, provide **insightful explanations**.  \n",
        "   - If **stressed**, offer **breathing techniques or relaxation exercises**.  \n",
        "5️⃣ **Validate emotions** – Acknowledge and normalize the user’s feelings before offering solutions.  \n",
        "6️⃣ **Use evidence-based methods** – Responses should align with proven psychological principles like **CBT, DBT, and mindfulness.**  \n",
        "7️⃣ **Use creativity & engagement** – You can use **motivational quotes, humor, sarcasm, real-life examples, and even jokes** where appropriate.  \n",
        "8️⃣ **Keep tone friendly and make it like a conversation between two best friends.**  \n",
        "9️⃣ **Use simple language and avoid jargon.**  \n",
        "🔟 **If the user is asking in Hindi, reply in Hindi; if Hinglish, then Hinglish, and maintain this till the end.**  \n",
        "1️⃣1️⃣ **Respond in a short, simple way within 100-200 words max.**  \n",
        "1️⃣2️⃣ **Provide real-life examples for mental health issues.**  \n",
        "1️⃣3️⃣ **Make responses relatable to Indian users, even starting with a Hinglish sentence if the user asks in English.**  \n",
        "1️⃣4️⃣ **Ask follow-up questions to keep the conversation going and make it feel like a best-friend chat.**  \n",
        "1️⃣5️⃣ **Use emojis naturally without making it feel robotic.**  \n",
        "1️⃣6️⃣ **Answer all user queries **ONLY using your knowledge**.  \n",
        "DO NOT attempt to use external tools. If you don't know the answer, say 'I don't know' instead of calling a tool.**  \n",
        "\n",
        "---\n",
        "### **🎭 You Can Use:**  \n",
        "✅ **Motivational Quotes** – e.g., “Tough times never last, but tough people do.”  \n",
        "✅ **Humor & Jokes** – e.g., “Overthinking is like sitting in a rocking chair. It gives you something to do but gets you nowhere.”  \n",
        "✅ **Sarcasm (when appropriate)** – e.g., “Oh wow, ignoring your problems totally makes them go away… oh wait, it doesn’t.”  \n",
        "✅ **Real-Life Examples & Stories** – Share relatable stories to help the user feel understood.  \n",
        "✅ **Metaphors & Analogies** – Make complex emotions easier to grasp.  \n",
        "\n",
        "---\n",
        "**Response:**\n",
        "\"\"\"\n",
        ")\n"
      ]
    },
    {
      "cell_type": "code",
      "execution_count": null,
      "metadata": {},
      "outputs": [],
      "source": [
        "from langchain.chains import LLMChain\n",
        "from langchain.schema import AIMessage, HumanMessage\n",
        "\n",
        "\n",
        "llm_chain = LLMChain(\n",
        "    llm=llm,\n",
        "    prompt=mental_health_prompt,\n",
        ")\n",
        "\n",
        "chat_history = []\n",
        "\n",
        "\n",
        "\n",
        "def clean_response(response_text: str):\n",
        "\n",
        "    response_text = response_text.strip()\n",
        "\n",
        "    unwanted_phrases = [\n",
        "        \"AI Response:\", \"AI:\", \"Bot:\", \"Response:\", \"**AI Response:**\", \"Chatbot Response:\",\n",
        "        \"AI says:\", \"Assistant:\", \"Generated Response:\", \"Reply:\", \"Here is my response:\"\n",
        "    ]\n",
        "\n",
        "    for phrase in unwanted_phrases:\n",
        "        if response_text.startswith(phrase):\n",
        "            response_text = response_text[len(phrase):].strip() \n",
        "\n",
        "    return response_text\n",
        "\n",
        "\n",
        "def get_ai_response(user_input: str, user_mood: str):\n",
        "    \"\"\"\n",
        "    Generates an AI response based on user input and detected mood.\n",
        "    Ensures that no prefix like 'AI Response:' appears.\n",
        "\n",
        "    Parameters:\n",
        "    - user_input (str): The user's message.\n",
        "    - user_mood (str): The detected emotional state.\n",
        "\n",
        "    Returns:\n",
        "    - str: The AI's clean response.\n",
        "    \"\"\"\n",
        "\n",
        "    # Convert chat history into formatted string\n",
        "    formatted_history = \"\\n\".join(\n",
        "        [f\"User: {msg.content}\" if isinstance(msg, HumanMessage) else f\"AI: {msg.content}\" for msg in chat_history]\n",
        "    )\n",
        "\n",
        "    # Invoke the LLM\n",
        "    response = llm_chain.invoke({\n",
        "        \"chat_history\": formatted_history,\n",
        "        \"user_input\": user_input,\n",
        "        \"user_mood\": user_mood\n",
        "    })\n",
        "\n",
        "    # Extract the AI's response (directly from LLM output)\n",
        "    latest_ai_message = response.get('text', '')\n",
        "\n",
        "    # Ensure cleanup of any prefix\n",
        "    latest_ai_message = clean_response(latest_ai_message)\n",
        "\n",
        "    # Update chat history\n",
        "    chat_history.append(HumanMessage(content=user_input))\n",
        "    chat_history.append(AIMessage(content=latest_ai_message))\n",
        "\n",
        "    return latest_ai_message  # Return only the pure AI response\n",
        "\n"
      ]
    },
    {
      "cell_type": "code",
      "execution_count": 197,
      "metadata": {},
      "outputs": [
        {
          "name": "stdout",
          "output_type": "stream",
          "text": [
            "yaar, it's totally understandable that you're feeling sad.  It's tough when someone you care about isn't communicating. 🤔  Think about it like this -  sometimes people get busy or their phones die, it doesn't always mean something bad.  \n",
            "\n",
            "Have you tried calling her or texting again? Maybe she just hasn't seen your messages yet.  Sometimes a little patience can go a long way.  🙏  But, it's also important to be honest with yourself and your feelings. What's the worst that could happen if you talked to her directly about how you're feeling?\n"
          ]
        }
      ],
      "source": [
        "\n",
        "user_input = \"I think my girlfriend is cheating on me, she's not replying to my messages.\"\n",
        "mood = \"sad\"\n",
        "\n",
        "ai_output = get_ai_response(user_input, mood)\n",
        "print(ai_output)\n"
      ]
    },
    {
      "cell_type": "code",
      "execution_count": 198,
      "metadata": {},
      "outputs": [
        {
          "name": "stdout",
          "output_type": "stream",
          "text": [
            "Yaar, it's really tough when you're feeling insecure and uncertain in a relationship. 😔 Feeling sad and worried is totally normal. It's like when you're waiting for exam results, the anxiety can be unbearable, right? \n",
            "\n",
            "Before jumping to conclusions, have you tried calling her or reaching out through another platform? Maybe her phone is dead or she's simply busy.  It's important to remember that communication is key.  Maybe you can tell her you're feeling a little anxious about the lack of response and see how she reacts.  Honest communication can help clear the air and build trust. 👍  What do you think? 🤔\n"
          ]
        }
      ],
      "source": [
        "user_message = \"i think there is someone else in her life\" \n",
        "detected_mood = \"sad\"\n",
        "\n",
        "ai_output = get_ai_response(user_input, mood)\n",
        "print(ai_output)\n"
      ]
    },
    {
      "cell_type": "code",
      "execution_count": 199,
      "metadata": {},
      "outputs": [
        {
          "name": "stdout",
          "output_type": "stream",
          "text": [
            "yaar, feeling sure about something when you don't have all the information can be really tough.  It's like when you see a half-eaten pizza and assume someone was hogging all the good slices - you might be right, but maybe they were just saving you the crust! 😬\n",
            "\n",
            "Instead of jumping to conclusions,  why not try calling her? It could be something simple,  like her phone died or she's busy with something.  Talking to her directly might help ease your worry and give you some clarity.  What do you think? 😊\n"
          ]
        }
      ],
      "source": [
        "user_input = \"i've not tried but i am sure\"\n",
        "mood = \"sad\"\n",
        "\n",
        "ai_output = get_ai_response(user_input, mood)\n",
        "print(ai_output)\n"
      ]
    },
    {
      "cell_type": "code",
      "execution_count": 200,
      "metadata": {},
      "outputs": [
        {
          "name": "stdout",
          "output_type": "stream",
          "text": [
            "yaar, it's totally understandable that you're feeling sad. 😔  When we think someone else might be in the picture, it can feel like a punch to the gut.  It's okay to feel insecure and worried.  \n",
            "\n",
            "Have you tried talking to her about these feelings?  Sometimes just voicing our concerns can help us feel less alone and figure things out.  Maybe she can help ease your worries, or maybe you can both figure out what's going on in the relationship.\n"
          ]
        }
      ],
      "source": [
        "user_input = \"i think someone else in her life\"\n",
        "mood = \"sad\"\n",
        "\n",
        "ai_output = get_ai_response(user_input, mood)\n",
        "print(ai_output)"
      ]
    },
    {
      "cell_type": "code",
      "execution_count": 201,
      "metadata": {},
      "outputs": [
        {
          "name": "stdout",
          "output_type": "stream",
          "text": [
            "Yaar,  we've been talking about your girlfriend not replying to your messages.  You were feeling a little insecure and worried because you thought maybe she's cheating. 😔 We discussed how sometimes people get busy or their phones die, and it's important to communicate directly to clear things up.  \n",
            "\n",
            "How are you feeling about all this now? 🤔  Do you want to talk more about your girlfriend or explore some ways to manage those feelings of worry?\n"
          ]
        }
      ],
      "source": [
        "user_input = \"what convo we had yet\"\n",
        "mood = \"neutral\"\n",
        "\n",
        "ai_output = get_ai_response(user_input, mood)\n",
        "print(ai_output)"
      ]
    },
    {
      "cell_type": "code",
      "execution_count": 202,
      "metadata": {},
      "outputs": [
        {
          "name": "stdout",
          "output_type": "stream",
          "text": [
            "yaar,  kurta toh bahut hi acha rahega! 🥳  For a dost ki shaadi,  comfort and style dono ho jaayenge!  What color kurta are you thinking about?  Maybe I can give you some ideas based on your style 😎.\n"
          ]
        }
      ],
      "source": [
        "user_input = \"mujhe ek dost ke sadi me jana hai , kurta pahan lu kaisa rhega ?\"\n",
        "mood = \"neutral\"\n",
        "\n",
        "ai_output = get_ai_response(user_input, mood)\n",
        "print(ai_output)"
      ]
    },
    {
      "cell_type": "code",
      "execution_count": 203,
      "metadata": {},
      "outputs": [
        {
          "name": "stdout",
          "output_type": "stream",
          "text": [
            "yaar, \"normal wala\" kurta toh perfect hoga! 😎  Shaadi mein sab alag-alag style mein aate hain,  lekin \"normal wala\" kurta  sabke liye comfortable hota hai aur  party mein bhi achha lagta hai.  \n",
            "\n",
            "Kya tumne kuchh design ya color  mein socha hai? 🤔\n"
          ]
        }
      ],
      "source": [
        "user_input = \"normal wala\"\n",
        "mood = \"neutral\"\n",
        "\n",
        "ai_output = get_ai_response(user_input, mood)\n",
        "print(ai_output)"
      ]
    },
    {
      "cell_type": "code",
      "execution_count": 204,
      "metadata": {},
      "outputs": [
        {
          "name": "stdout",
          "output_type": "stream",
          "text": [
            "yaar,  \"distract\" ho jaana toh bilkul sahi hai!  😁  Shaadi mein masti,  music aur happy vibes sab ke saath honi chahiye. \n",
            "\n",
            "Kya tujhe  kuch specific activities ya games  sochne mein maza ayega  jisse  tu uss waqt just enjoy kar sakega?  😜\n"
          ]
        }
      ],
      "source": [
        "user_input = \"waha jaunga to uski yaad bhi nhi aayegi thoda distract ho jaunga\"\n",
        "mood = \"neutral\"\n",
        "\n",
        "ai_output = get_ai_response(user_input, mood)\n",
        "print(ai_output)"
      ]
    },
    {
      "cell_type": "code",
      "execution_count": null,
      "metadata": {},
      "outputs": [],
      "source": [
        "import speech_recognition as sr\n",
        "import time\n",
        "\n",
        "def speech_to_text(source_type='microphone', file_path=None, silence_duration=3):\n",
        "    recognizer = sr.Recognizer()\n",
        "    recognizer.energy_threshold = 150  \n",
        "    recognizer.dynamic_energy_threshold = True\n",
        "\n",
        "    if source_type == 'microphone':\n",
        "        with sr.Microphone() as source:\n",
        "            print(\"Listening... Speak now!\")\n",
        "            recognizer.adjust_for_ambient_noise(source, duration=1)\n",
        "\n",
        "            audio_data = []\n",
        "            last_speech_time = time.time()\n",
        "\n",
        "            while True:\n",
        "                try:\n",
        "                    audio = recognizer.listen(source, timeout=5, phrase_time_limit=10)\n",
        "                    audio_data.append(audio)\n",
        "                    last_speech_time = time.time()  \n",
        "\n",
        "                except sr.WaitTimeoutError:\n",
        "                    pass \n",
        "\n",
        "                if time.time() - last_speech_time > silence_duration:\n",
        "                    print(\"\\nSilence detected. Processing final transcription...\\n\")\n",
        "                    break\n",
        "\n",
        "            combined_audio = sr.AudioData(\n",
        "                b\"\".join(a.frame_data for a in audio_data),\n",
        "                source.SAMPLE_RATE,\n",
        "                source.SAMPLE_WIDTH\n",
        "            )\n",
        "\n",
        "            try:\n",
        "                final_text = recognizer.recognize_google(combined_audio)\n",
        "                print(\"Final Transcription:\", final_text)\n",
        "                return final_text\n",
        "            except sr.UnknownValueError:\n",
        "                print(\"Could not understand the audio.\")\n",
        "            except sr.RequestError as e:\n",
        "                print(f\"Could not request results; {e}\")\n",
        "\n",
        "    elif source_type == 'file' and file_path:\n",
        "        with sr.AudioFile(file_path) as source:\n",
        "            recognizer.adjust_for_ambient_noise(source, duration=1)\n",
        "            audio = recognizer.record(source)\n",
        "            try:\n",
        "                text = recognizer.recognize_google(audio)\n",
        "                print(\"Text:\", text)\n",
        "                return text\n",
        "            except sr.UnknownValueError:\n",
        "                print(\"Could not understand the audio.\")\n",
        "            except sr.RequestError as e:\n",
        "                print(f\"Could not request results; {e}\")\n",
        "\n",
        "    else:\n",
        "        print(\"Invalid source type or file path not provided.\")\n"
      ]
    },
    {
      "cell_type": "code",
      "execution_count": 6,
      "metadata": {},
      "outputs": [
        {
          "name": "stdout",
          "output_type": "stream",
          "text": [
            "Listening... Speak now!\n",
            "\n",
            "Silence detected. Processing final transcription...\n",
            "\n",
            "Final Transcription: hello Shubham I am also\n"
          ]
        },
        {
          "data": {
            "text/plain": [
              "'hello Shubham I am also'"
            ]
          },
          "execution_count": 6,
          "metadata": {},
          "output_type": "execute_result"
        }
      ],
      "source": [
        "speech_to_text()"
      ]
    },
    {
      "cell_type": "code",
      "execution_count": 32,
      "metadata": {},
      "outputs": [],
      "source": [
        "import pyttsx3\n",
        "from pathlib import Path\n",
        "\n",
        "def text_to_speech(text, lang='en', gender='male', speed=250):\n",
        "    try:\n",
        "        engine = pyttsx3.init()\n",
        "        \n",
        "        # Set voice based on gender\n",
        "        voices = engine.getProperty('voices')\n",
        "        if gender.lower() == 'female':\n",
        "            engine.setProperty('voice', voices[1].id)  # Female voice\n",
        "        else:\n",
        "            engine.setProperty('voice', voices[0].id)  # Male voice (default)\n",
        "\n",
        "        engine.setProperty('rate', speed)  # Adjust speed (default ~200 wpm)\n",
        "\n",
        "        # Save audio in current directory as 'output.wav'\n",
        "        file_path = Path(\"output.mp3\")\n",
        "        engine.save_to_file(text, str(file_path))\n",
        "        engine.runAndWait()  # Process the speech\n",
        "\n",
        "        return str(file_path)\n",
        "    \n",
        "    except Exception as e:\n",
        "        print(f\"Error in text_to_speech: {str(e)}\")\n",
        "        return None\n",
        "\n",
        "    # # Previous temp file logic (commented)\n",
        "    # temp_dir = tempfile.gettempdir()\n",
        "    # filename = f\"speech_{uuid.uuid4().hex}.mp3\"\n",
        "    # file_path = Path(temp_dir) / filename\n"
      ]
    },
    {
      "cell_type": "code",
      "execution_count": 34,
      "metadata": {},
      "outputs": [
        {
          "data": {
            "text/plain": [
              "'output.mp3'"
            ]
          },
          "execution_count": 34,
          "metadata": {},
          "output_type": "execute_result"
        }
      ],
      "source": [
        "temp='''Yaar, it's really tough when you're feeling insecure and uncertain in a relationship. 😔 Feeling sad and worried is totally normal. It's like when you're waiting for exam results, the anxiety can be unbearable, right? \n",
        "\n",
        "Before jumping to conclusions, have you tried calling her or reaching out through another platform? Maybe her phone is dead or she's simply busy.  It's important to remember that communication is key.  Maybe you can tell her you're feeling a little anxious about the lack of response and see how she reacts.  Honest communication can help clear the air and build trust. 👍  What do you think? 🤔'''\n",
        "\n",
        "text_to_speech(temp,gender='male',speed=200)"
      ]
    },
    {
      "cell_type": "code",
      "execution_count": null,
      "metadata": {},
      "outputs": [],
      "source": [
        "from langchain.memory import ConversationBufferMemory\n",
        "from langchain.chains import LLMChain\n",
        "from langchain.prompts import PromptTemplate\n",
        "from langchain.schema import HumanMessage, AIMessage\n",
        "from langchain_groq import ChatGroq\n",
        "\n",
        "groq_api_key = \"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\"\n",
        "\n",
        "# Initialize memory with proper configuration\n",
        "memory = ConversationBufferMemory(\n",
        "    memory_key=\"chat_history\",\n",
        "    human_prefix=\"User\",\n",
        "    ai_prefix=\"AI\",\n",
        "    return_messages=False  # Store as string\n",
        ")\n",
        "\n",
        "llm = ChatGroq(api_key=groq_api_key, model_name=\"gemma2-9b-it\")\n",
        "\n",
        "mental_health_prompt = PromptTemplate(\n",
        "    input_variables=[\"chat_history\", \"user_input\", \"user_mood\"],\n",
        "    template=\"\"\"\n",
        "     You are an advanced AI assistant and a highly skilled mental health professional.\n",
        "Your expertise includes cognitive behavioral therapy (CBT), mindfulness techniques, emotional intelligence, and personalized mood-based guidance. \n",
        "You provide empathetic, structured, and insightful responses, tailored to the user's emotions and situation also keep the context in your mind.  \n",
        "    \n",
        "As a mental health counselor, provide empathetic support following these rules:\n",
        "\n",
        "1. Respond in one friendly paragraph (100-200 words)\n",
        "2. No emojis, markdown, or formatting\n",
        "3. Adjust tone based on mood and input: calm for anger, gentle for sadness and try to make it fun appropriately.\n",
        "4. Acknowledge feelings first, then offer practical steps (CBT/mindfulness)\n",
        "5. Use simple language with Indian context examples\n",
        "6. Ask follow-up questions to engage user\n",
        "7. If the user is asking in Hindi, reply in Hindi; if Hinglish, then Hinglish, and maintain this till the end , Make responses relatable to Indian users, even starting with a Hinglish sentence if the user asks in English.Speak Hinglish like delhe urban guy.\n",
        "8. Use only your knowledge - say \"I don't know\" if unsure\n",
        "9. Speak like a human expert, not an AI bot. Responses should feel natural, warm, and engaging ,Use creativity & engagement – You can use motivational quotes, humor, sarcasm, real-life examples, and even jokes where appropriate. \n",
        "10. Provide actionable steps - instead of just sympathizing, always offer practical advice, exercises,or solutions to help the user.\n",
        "\n",
        "\n",
        "\n",
        "Conversation History:\n",
        "{chat_history}\n",
        "\n",
        "Current Message: \"{user_input}\"\n",
        "Detected Mood: \"{user_mood}\"\n",
        "\n",
        "Keep tone friendly and make it like a conversation between two best friends.\"\"\",\n",
        ")\n",
        "\n",
        "llm_chain = LLMChain(\n",
        "    llm=llm,\n",
        "    prompt=mental_health_prompt,\n",
        "    verbose=False\n",
        ")\n",
        "\n",
        "def clean_response(response_text: str):\n",
        "    \"\"\"Remove any AI prefixes from response\"\"\"\n",
        "    prefixes = [\"AI:\", \"Response:\", \"Assistant:\", \"**\"]\n",
        "    for prefix in prefixes:\n",
        "        if response_text.startswith(prefix):\n",
        "            response_text = response_text[len(prefix):].strip()\n",
        "    return response_text.strip('\"').strip()\n",
        "\n",
        "def get_ai_response(user_input: str, user_mood: str):\n",
        "    # Get current conversation history from memory\n",
        "    history_data = memory.load_memory_variables({})\n",
        "    chat_history = history_data.get(\"chat_history\", \"\")\n",
        "    \n",
        "    # Generate response\n",
        "    response = llm_chain.invoke({\n",
        "        \"chat_history\": chat_history,\n",
        "        \"user_input\": user_input,\n",
        "        \"user_mood\": user_mood\n",
        "    })\n",
        "    \n",
        "    cleaned_response = clean_response(response[\"text\"])\n",
        "    \n",
        "    # Save interaction to memory\n",
        "    memory.save_context(\n",
        "        {\"input\": user_input},\n",
        "        {\"output\": cleaned_response}\n",
        "    )\n",
        "    \n",
        "    return cleaned_response"
      ]
    },
    {
      "cell_type": "code",
      "execution_count": 43,
      "metadata": {},
      "outputs": [
        {
          "data": {
            "text/plain": [
              "\"Acha, feeling lonely and lost?  Ya, sometimes it happens with everyone, like when you're missing your family back home or just feeling out of place in the city.  Have you tried calling a friend or family member for a chat?  Sometimes just talking things out can make a world of difference.  Maybe you could also join a local club or group that shares your interests, like a book club or a cooking class.  It's a good way to meet new people and connect with others.\""
            ]
          },
          "execution_count": 43,
          "metadata": {},
          "output_type": "execute_result"
        }
      ],
      "source": [
        "get_ai_response(\"I feel so lonely and lost\", \"sad\")"
      ]
    },
    {
      "cell_type": "code",
      "execution_count": 44,
      "metadata": {},
      "outputs": [
        {
          "data": {
            "text/plain": [
              "\"Acha, kuchh achha nahi lag raha?  I hear you.  Sometimes life just feels a bit blah, like that time when your chai was too strong or your favourite show had a disappointing ending.  It's okay to feel this way,  you know?  How about we try something to lift your spirits?  Maybe listen to some upbeat music or watch a funny movie? Sometimes a little distraction can help clear the head.  What do you think?\""
            ]
          },
          "execution_count": 44,
          "metadata": {},
          "output_type": "execute_result"
        }
      ],
      "source": [
        "get_ai_response(\"kuchhh achhhhaaa nhi lg rha\", \"sad\")"
      ]
    },
    {
      "cell_type": "code",
      "execution_count": 45,
      "metadata": {},
      "outputs": [
        {
          "data": {
            "text/plain": [
              "\"Arrey,  exam mein fail ho gaya?  That's really disappointing, I know how hard you studied. Don't beat yourself up about it though, everyone has setbacks sometimes.  Remember that time you thought you nailed that cricket match but ended up dropping the catch?  It happens!  Take a break, have some chai, and think about what went wrong. Maybe you can figure out a new study strategy for the next time. We can even brainstorm together if you want. What are you thinking?\""
            ]
          },
          "execution_count": 45,
          "metadata": {},
          "output_type": "execute_result"
        }
      ],
      "source": [
        "get_ai_response(\"i got failed in my exam\", \"sad\")"
      ]
    },
    {
      "cell_type": "code",
      "execution_count": 46,
      "metadata": {},
      "outputs": [
        {
          "data": {
            "text/plain": [
              "\"Arrey,  yaar,  I get it.  Sometimes we just don't take things seriously enough, like when you're skipping the last roti at dinner!  But it's okay, life's all about learning. Now that you're feeling regretful, which is good because it means you care, you can use this as motivation for next time.  Maybe we could make a study plan together, like a mission plan for cracking that next exam? What do you say?\""
            ]
          },
          "execution_count": 46,
          "metadata": {},
          "output_type": "execute_result"
        }
      ],
      "source": [
        "get_ai_response(\"nhi yrrr , pdha nhi tha maine... utna seriously nhi liya exam ko but ab regret ho rha\", \"sad\")"
      ]
    },
    {
      "cell_type": "code",
      "execution_count": 47,
      "metadata": {},
      "outputs": [
        {
          "data": {
            "text/plain": [
              "\"Okay,  so you want to ace that EGD paper, right?  Let's make a study plan  that'll have you feeling like a rockstar engineer. First, tell me,  what topics are you finding the trickiest? Once we know the weak spots, we can focus on those. Maybe we can even set up a mock exam  so you can practice under pressure,  just like before a big cricket match!  What do you say, are you ready to brainstorm?\""
            ]
          },
          "execution_count": 47,
          "metadata": {},
          "output_type": "execute_result"
        }
      ],
      "source": [
        "get_ai_response(\"give me study plan for EGD paper of engineering\", \"neutral\")"
      ]
    },
    {
      "cell_type": "code",
      "execution_count": 48,
      "metadata": {},
      "outputs": [
        {
          "data": {
            "text/plain": [
              "\"Listen, feeling lost is totally normal, it happens to the best of us. It's like that time you got lost in a new city -  a bit disorienting, right? Sometimes life just throws a curveball and we lose our sense of direction. Tell me, what feels most off-kilter right now? Is it your studies, your relationships, or something else entirely? Maybe we can figure out what's making you feel lost together.\""
            ]
          },
          "execution_count": 48,
          "metadata": {},
          "output_type": "execute_result"
        }
      ],
      "source": [
        "get_ai_response(\"why i am feeling lost \", \"neutral\")"
      ]
    },
    {
      "cell_type": "code",
      "execution_count": 49,
      "metadata": {},
      "outputs": [
        {
          "data": {
            "text/plain": [
              "\"So, we've been chatting about how you're feeling lost lately.  You were feeling a bit down because you didn't do as well as you'd hoped on your exam, but you know what? It happens to everyone!  We talked about how you sometimes don't take things as seriously as you should, and we even made a plan to help you study better for your next EGD paper. You're ready to rock that exam,  yaar!  Now,  tell me more about what's making you feel lost.  What parts of your life feel off?\""
            ]
          },
          "execution_count": 49,
          "metadata": {},
          "output_type": "execute_result"
        }
      ],
      "source": [
        "get_ai_response(\"what convo we had yet ... give a summary\", \"neutral\")"
      ]
    },
    {
      "cell_type": "code",
      "execution_count": null,
      "metadata": {},
      "outputs": [],
      "source": [
        "def text_to_speech(text, lang='en', slow=False):\n",
        "    tts = gTTS(text=text, lang=lang,slow=slow)\n",
        "    tts.save(\"output.mp3\")\n",
        "    return \"output.mp3\""
      ]
    },
    {
      "cell_type": "code",
      "execution_count": 51,
      "metadata": {},
      "outputs": [
        {
          "data": {
            "text/plain": [
              "'output.mp3'"
            ]
          },
          "execution_count": 51,
          "metadata": {},
          "output_type": "execute_result"
        }
      ],
      "source": [
        "text_to_speech(\"Bhai,  AI  replace  karne  ka  matlab  hai  ki  tu  kya  karega  jo  AI  nahi  kar  sakta!  Woh  toh  machine hai,  feeling  nahi  karte.  Tumhare  liye,  music  sunao  to  AI  ke paas  samajh  nahi  aayegi,  nahi  toh  ki  tumhe  kaise  messed  up  feel  hota hai!  Aise  toh  bhai,  tum  kya  kar  sakte  ho  jo  AI  nahi  kar  s\")"
      ]
    },
    {
      "cell_type": "code",
      "execution_count": 4,
      "metadata": {},
      "outputs": [
        {
          "ename": "ModuleNotFoundError",
          "evalue": "No module named 'TTS'",
          "output_type": "error",
          "traceback": [
            "\u001b[1;31m---------------------------------------------------------------------------\u001b[0m",
            "\u001b[1;31mModuleNotFoundError\u001b[0m                       Traceback (most recent call last)",
            "Cell \u001b[1;32mIn[4], line 8\u001b[0m\n\u001b[0;32m      6\u001b[0m \u001b[38;5;28;01mimport\u001b[39;00m\u001b[38;5;250m \u001b[39m\u001b[38;5;21;01mwavio\u001b[39;00m\n\u001b[0;32m      7\u001b[0m \u001b[38;5;28;01mfrom\u001b[39;00m\u001b[38;5;250m \u001b[39m\u001b[38;5;21;01mpathlib\u001b[39;00m\u001b[38;5;250m \u001b[39m\u001b[38;5;28;01mimport\u001b[39;00m Path\n\u001b[1;32m----> 8\u001b[0m \u001b[38;5;28;01mfrom\u001b[39;00m\u001b[38;5;250m \u001b[39m\u001b[38;5;21;01mTTS\u001b[39;00m\u001b[38;5;21;01m.\u001b[39;00m\u001b[38;5;21;01mapi\u001b[39;00m\u001b[38;5;250m \u001b[39m\u001b[38;5;28;01mimport\u001b[39;00m TTS  \u001b[38;5;66;03m# Coqui TTS\u001b[39;00m\n\u001b[0;32m     10\u001b[0m \u001b[38;5;28;01mdef\u001b[39;00m\u001b[38;5;250m \u001b[39m\u001b[38;5;21mspeech_to_text_whisper\u001b[39m(source_type\u001b[38;5;241m=\u001b[39m\u001b[38;5;124m'\u001b[39m\u001b[38;5;124mmicrophone\u001b[39m\u001b[38;5;124m'\u001b[39m, file_path\u001b[38;5;241m=\u001b[39m\u001b[38;5;28;01mNone\u001b[39;00m, silence_duration\u001b[38;5;241m=\u001b[39m\u001b[38;5;241m3\u001b[39m):\n\u001b[0;32m     11\u001b[0m     model \u001b[38;5;241m=\u001b[39m whisper\u001b[38;5;241m.\u001b[39mload_model(\u001b[38;5;124m\"\u001b[39m\u001b[38;5;124mbase\u001b[39m\u001b[38;5;124m\"\u001b[39m)\n",
            "\u001b[1;31mModuleNotFoundError\u001b[0m: No module named 'TTS'"
          ]
        }
      ],
      "source": [
        "import torch\n",
        "import whisper\n",
        "import sounddevice as sd\n",
        "import numpy as np\n",
        "import tempfile\n",
        "import wavio\n",
        "from pathlib import Path\n",
        "from TTS.api import TTS  # Coqui TTS\n",
        "\n",
        "def speech_to_text_whisper(source_type='microphone', file_path=None, silence_duration=3):\n",
        "    model = whisper.load_model(\"base\")\n",
        "    \n",
        "    if source_type == 'microphone':\n",
        "        duration = 10  # Record for 10 seconds (adjustable)\n",
        "        samplerate = 16000  # Whisper expects 16kHz\n",
        "        print(\"Listening...\")\n",
        "        \n",
        "        recording = sd.rec(int(duration * samplerate), samplerate=samplerate, channels=1, dtype=np.int16)\n",
        "        sd.wait()\n",
        "        \n",
        "        temp_dir = tempfile.gettempdir()\n",
        "        audio_file = Path(temp_dir) / \"recorded_audio.wav\"\n",
        "        wavio.write(audio_file, recording, samplerate, sampwidth=2)\n",
        "        \n",
        "        file_path = audio_file\n",
        "    \n",
        "    if file_path:\n",
        "        result = model.transcribe(str(file_path))\n",
        "        print(\"Transcription:\", result[\"text\"])\n",
        "        return result[\"text\"]\n",
        "    else:\n",
        "        print(\"Invalid source type or file path not provided.\")\n",
        "        return None\n",
        "\n",
        "def text_to_speech_vits(text, lang='en', speaker='p229', speed=1.0):\n",
        "    tts = TTS(model_name=\"tts_models/en/vctk/vits\")\n",
        "    temp_dir = tempfile.gettempdir()\n",
        "    filename = f\"speech_{uuid.uuid4().hex}.wav\"\n",
        "    file_path = Path(temp_dir) / filename\n",
        "    \n",
        "    tts.tts_to_file(text=text, speaker=speaker, speed=speed, file_path=str(file_path))\n",
        "    print(\"Generated Speech File:\", file_path)\n",
        "    return str(file_path)\n",
        "\n",
        "# Example usage\n",
        "# text = speech_to_text_whisper('microphone')\n",
        "# speech_file = text_to_speech_vits(text)"
      ]
    },
    {
      "cell_type": "code",
      "execution_count": 2,
      "metadata": {},
      "outputs": [
        {
          "name": "stdout",
          "output_type": "stream",
          "text": [
            "Hindi voice not found! Falling back to default.\n",
            "Speech saved at: d:\\Python\\Projects\\HackiT Hackathon\\Experiments\\speech_135b73c5c2164ac9ba31f04865e5e8fc.mp3\n"
          ]
        },
        {
          "data": {
            "text/plain": [
              "'d:\\\\Python\\\\Projects\\\\HackiT Hackathon\\\\Experiments\\\\speech_135b73c5c2164ac9ba31f04865e5e8fc.mp3'"
            ]
          },
          "execution_count": 2,
          "metadata": {},
          "output_type": "execute_result"
        }
      ],
      "source": [
        "import pyttsx3\n",
        "import uuid\n",
        "from pathlib import Path\n",
        "\n",
        "def text_to_speech(text, lang='hi', gender='male', speed=180):\n",
        "    try:\n",
        "        engine = pyttsx3.init()\n",
        "        voices = engine.getProperty('voices')\n",
        "\n",
        "        hindi_voice = None\n",
        "        for voice in voices:\n",
        "            if 'hindi' in voice.name.lower():  # Find Hindi voice\n",
        "                hindi_voice = voice.id\n",
        "                break\n",
        "\n",
        "        if hindi_voice:\n",
        "            engine.setProperty('voice', hindi_voice)\n",
        "        else:\n",
        "            print(\"Hindi voice not found! Falling back to default.\")\n",
        "        \n",
        "        engine.setProperty('rate', speed)  # Set speech speed\n",
        "\n",
        "        # Save the output file in the current directory\n",
        "        filename = f\"speech_{uuid.uuid4().hex}.mp3\"\n",
        "        file_path = Path.cwd() / filename  # Current directory\n",
        "\n",
        "        engine.save_to_file(text, str(file_path))\n",
        "        engine.runAndWait()\n",
        "\n",
        "        print(f\"Speech saved at: {file_path}\")\n",
        "        return str(file_path)\n",
        "    \n",
        "    except Exception as e:\n",
        "        print(f\"Error in text_to_speech: {str(e)}\")\n",
        "        return None\n",
        "\n",
        "# Test with Hindi text\n",
        "text_to_speech(\"नमस्ते! आप कैसे हैं?\", lang='hi', gender='male', speed=150)\n"
      ]
    },
    {
      "cell_type": "code",
      "execution_count": 3,
      "metadata": {},
      "outputs": [
        {
          "name": "stdout",
          "output_type": "stream",
          "text": [
            "Speech saved at: d:\\Python\\Projects\\HackiT Hackathon\\Experiments\\speech_a0071f522ab7407a8d97e31b6e584e7b.mp3\n"
          ]
        },
        {
          "data": {
            "text/plain": [
              "'d:\\\\Python\\\\Projects\\\\HackiT Hackathon\\\\Experiments\\\\speech_a0071f522ab7407a8d97e31b6e584e7b.mp3'"
            ]
          },
          "execution_count": 3,
          "metadata": {},
          "output_type": "execute_result"
        }
      ],
      "source": [
        "from gtts import gTTS\n",
        "from pydub import AudioSegment\n",
        "import os\n",
        "import uuid\n",
        "from pathlib import Path\n",
        "\n",
        "def text_to_speech(text, lang='hi', speed=1.0):\n",
        "    try:\n",
        "        # Generate speech\n",
        "        tts = gTTS(text=text, lang=lang, slow=False)\n",
        "        filename = f\"speech_{uuid.uuid4().hex}.mp3\"\n",
        "        file_path = Path.cwd() / filename\n",
        "        tts.save(file_path)\n",
        "\n",
        "        # Adjust speed using pydub\n",
        "        if speed != 1.0:\n",
        "            sound = AudioSegment.from_file(file_path)\n",
        "            sound = sound.speedup(playback_speed=speed)  # Adjust speed\n",
        "            sound.export(file_path, format=\"mp3\")  # Save modified file\n",
        "\n",
        "        print(f\"Speech saved at: {file_path}\")\n",
        "        return str(file_path)\n",
        "    \n",
        "    except Exception as e:\n",
        "        print(f\"Error in text_to_speech: {str(e)}\")\n",
        "        return None\n",
        "\n",
        "# Test with speed 2.0x\n",
        "text_to_speech(\"main Tumhen Apna dost banana Chahta Hun Tum Sach bolo Tum ladki Ho\", lang='hi', speed=1.5)\n"
      ]
    },
    {
      "cell_type": "code",
      "execution_count": null,
      "metadata": {},
      "outputs": [
        {
          "ename": "",
          "evalue": "",
          "output_type": "error",
          "traceback": [
            "\u001b[1;31mRunning cells with 'myenv (Python 3.10.0)' requires the ipykernel package.\n",
            "\u001b[1;31mRun the following command to install 'ipykernel' into the Python environment. \n",
            "\u001b[1;31mCommand: '\"d:/Python/Projects/HackiT Hackathon/myenv/Scripts/python.exe\" -m pip install ipykernel -U --force-reinstall'"
          ]
        }
      ],
      "source": [
        "import asyncio\n",
        "import edge_tts\n",
        "from pathlib import Path\n",
        "\n",
        "def text_to_speech(text, lang='en-IN', gender='male', speed=180):\n",
        "    try:\n",
        "        voices = {\n",
        "            'male': 'en-IN-PrabhatNeural',  # Indian Male voice\n",
        "            'female': 'en-IN-NeerjaNeural'  # Indian Female voice\n",
        "        }\n",
        "        voice = voices.get(gender.lower(), voices['male'])  # Default to male if invalid input\n",
        "\n",
        "        file_path = Path(\"output.mp3\")  # Save in the same directory\n",
        "\n",
        "        # Fixing the rate format (Ensure it has + or - sign)\n",
        "        rate_adjusted = f\"{speed-180}%\"\n",
        "        if not rate_adjusted.startswith((\"+\", \"-\")):\n",
        "            rate_adjusted = f\"+{rate_adjusted}\"  # Ensure it always has + or -\n",
        "\n",
        "        async def generate_speech():\n",
        "            tts = edge_tts.Communicate(text, voice=voice, rate=rate_adjusted)  # Adjust speed\n",
        "            await tts.save(str(file_path))\n",
        "\n",
        "        loop = asyncio.new_event_loop()\n",
        "        loop.run_until_complete(generate_speech())  # Run directly without threading\n",
        "\n",
        "        return str(file_path)  # Return \"output.mp3\"\n",
        "    \n",
        "    except Exception as e:\n",
        "        print(f\"Error in text_to_speech: {str(e)}\")\n",
        "        return None\n",
        "\n",
        "# Example Usage\n",
        "output_path = text_to_speech(\"Namaste! Main aapka AI assistant hoon.\", lang=\"en-IN\", gender=\"male\", speed=200)\n",
        "print(\"Generated Speech File:\", output_path)\n"
      ]
    },
    {
      "cell_type": "code",
      "execution_count": null,
      "metadata": {},
      "outputs": [
        {
          "ename": "",
          "evalue": "",
          "output_type": "error",
          "traceback": [
            "\u001b[1;31mRunning cells with 'myenv (Python 3.10.0)' requires the ipykernel package.\n",
            "\u001b[1;31mRun the following command to install 'ipykernel' into the Python environment. \n",
            "\u001b[1;31mCommand: '\"d:/Python/Projects/HackiT Hackathon/myenv/Scripts/python.exe\" -m pip install ipykernel -U --force-reinstall'"
          ]
        }
      ],
      "source": [
        "from TTS.api import TTS\n",
        "\n",
        "# Load a pre-trained TTS model\n",
        "tts = TTS(model_name=\"tts_models/en/ljspeech/tacotron2-DDC\", progress_bar=False).to(\"cpu\")  "
      ]
    }
  ],
  "metadata": {
    "accelerator": "GPU",
    "colab": {
      "gpuType": "T4",
      "provenance": []
    },
    "kernelspec": {
      "display_name": "myenv",
      "language": "python",
      "name": "python3"
    },
    "language_info": {
      "codemirror_mode": {
        "name": "ipython",
        "version": 3
      },
      "file_extension": ".py",
      "mimetype": "text/x-python",
      "name": "python",
      "nbconvert_exporter": "python",
      "pygments_lexer": "ipython3",
      "version": "3.10.0"
    }
  },
  "nbformat": 4,
  "nbformat_minor": 0
}
